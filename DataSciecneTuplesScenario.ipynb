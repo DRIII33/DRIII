{
  "nbformat": 4,
  "nbformat_minor": 0,
  "metadata": {
    "colab": {
      "provenance": []
    },
    "kernelspec": {
      "name": "python3",
      "display_name": "Python 3"
    },
    "language_info": {
      "name": "python"
    }
  },
  "cells": [
    {
      "cell_type": "code",
      "execution_count": 4,
      "metadata": {
        "colab": {
          "base_uri": "https://localhost:8080/"
        },
        "id": "uScjmMhSa6d7",
        "outputId": "b85816cd-4493-4e5b-cc68-c2c72579b7d0"
      },
      "outputs": [
        {
          "output_type": "stream",
          "name": "stdout",
          "text": [
            "User Data:\n",
            "(101, 34, 'Male', 'Austin, TX')\n",
            "(102, 28, 'Female', 'Seattle, WA')\n",
            "(103, 22, 'Other', 'New York, NY')\n",
            "\n",
            "Average Age of Users: 28.0\n",
            "\n",
            "Users in Austin, TX:\n",
            "(101, 34, 'Male', 'Austin, TX')\n"
          ]
        }
      ],
      "source": [
        "# Creating tuples to store user data\n",
        "user1 = (101, 34, 'Male', 'Austin, TX')\n",
        "user2 = (102, 28, 'Female', 'Seattle, WA')\n",
        "user3 = (103, 22, 'Other', 'New York, NY')\n",
        "\n",
        "# Storing the tuples in a list\n",
        "user_data = [user1, user2, user3]\n",
        "\n",
        "# Displaying the data\n",
        "print(\"User Data:\")\n",
        "for user in user_data:\n",
        "    print(user)\n",
        "\n",
        "\n",
