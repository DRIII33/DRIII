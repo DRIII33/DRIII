{
  "nbformat": 4,
  "nbformat_minor": 0,
  "metadata": {
    "colab": {
      "provenance": []
    },
    "kernelspec": {
      "name": "python3",
      "display_name": "Python 3"
    },
    "language_info": {
      "name": "python"
    }
  },
  "cells": [
    {
      "cell_type": "code",
      "execution_count": 4,
      "metadata": {
        "colab": {
          "base_uri": "https://localhost:8080/"
        },
        "id": "uScjmMhSa6d7",
        "outputId": "b85816cd-4493-4e5b-cc68-c2c72579b7d0"
      },
      "outputs": [
        {
          "output_type": "stream",
          "name": "stdout",
          "text": [
            "User Data:\n",
            "(101, 34, 'Male', 'Austin, TX')\n",
            "(102, 28, 'Female', 'Seattle, WA')\n",
            "(103, 22, 'Other', 'New York, NY')\n",
            "\n",
            "Average Age of Users: 28.0\n",
            "\n",
            "Users in Austin, TX:\n",
            "(101, 34, 'Male', 'Austin, TX')\n"
          ]
        }
      ],
      "source": [
        "# Creating tuples to store user data\n",
        "user1 = (101, 34, 'Male', 'Austin, TX')\n",
        "user2 = (102, 28, 'Female', 'Seattle, WA')\n",
        "user3 = (103, 22, 'Other', 'New York, NY')\n",
        "\n",
        "# Storing the tuples in a list\n",
        "user_data = [user1, user2, user3]\n",
        "\n",
        "# Displaying the data\n",
        "print(\"User Data:\")\n",
        "for user in user_data:\n",
        "    print(user)\n",
        "\n",
        "\n",
 "# Function to calculate the average age of users\n",
         "def calculate_average_age(data):\n",
         "    total_age = 0\n",
         "    user_count = len(data)\n",
         "    for user in data:\n",
         "        total_age += user[1]  # Accessing the 'Age' element (index 1)\n",
         "    return total_age / user_count if user_count > 0 else 0\n",
         "\n",
         "\n",
         "# Calculating and printing the average age\n",
         "average_age = calculate_average_age(user_data)\n",
         "print(f\"\\nAverage Age of Users: {average_age}\")\n",
         "\n",
         "\n",
         "# Function to filter users by location\n",
         "def filter_users_by_location(data, location):\n",
         "    filtered_users = []  # Initialize filtered_users as an empty list\n",
         "    for user in data:\n",
         "        if user[3] == location:  # Accessing the 'Location' element (index 3)\n",
         "            filtered_users.append(user)\n",
         "    return filtered_users\n",
         "\n",
         "\n",
         "# Filtering users by location and printing the result\n",
         "location_to_filter = 'Austin, TX'\n",
         "users_in_austin = filter_users_by_location(user_data, location_to_filter)\n",
         "print(f\"\\nUsers in {location_to_filter}:\")\n",
         "for user in users_in_austin:\n",
         "    print(user)"
       ]
     },
     {
       "source": [
         "# Function to calculate the average age of users\n",
         "def calculate_average_age(data):\n",
         "    total_age = 0\n",
         "    user_count = len(data)\n",
         "    for user in data:\n",
         "        total_age += user[1]  # Accessing the 'Age' element (index 1)\n",
         "    return total_age / user_count if user_count > 0 else 0\n",
         "\n",
         "\n",
         "# Calculating and printing the average age\n",
         "average_age = calculate_average_age(user_data)\n",
         "print(f\"\\nAverage Age of Users: {average_age}\")\n",
         "\n",
         "\n",
         "# Function to filter users by location\n",
         "def filter_users_by_location(data, location):\n",
         "    filtered_users = []  # Initialize filtered_users as an empty list\n",
         "    for user in data:\n",
         "        if user[3] == location:  # Accessing the 'Location' element (index 3)\n",
         "            filtered_users.append(user)\n",
         "    return filtered_users\n",
         "\n",
         "\n",
         "# Filtering users by location and printing the result\n",
         "location_to_filter = 'Austin, TX'\n",
         "users_in_austin = filter_users_by_location(user_data, location_to_filter)\n",
         "print(f\"\\nUsers in {location_to_filter}:\")\n",
         "for user in users_in_austin:\n",
         "    print(user)"
       ],
       "cell_type": "code",
       "metadata": {
         "colab": {
           "base_uri": "https://localhost:8080/"
         },
         "id": "SLZW79HwcSve",
         "outputId": "29899296-7ef8-4774-f62d-02c147c1c6be"
       },
       "execution_count": 3,
       "outputs": [
         {
           "output_type": "stream",
           "name": "stdout",
           "text": [
             "\n",
             "Average Age of Users: 28.0\n",
             "\n",
             "Users in Austin, TX:\n",
             "(101, 34, 'Male', 'Austin, TX')\n"
           ]
         }
       ]
     }
   ]
 }
